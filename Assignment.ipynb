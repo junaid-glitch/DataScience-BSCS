{
  "nbformat": 4,
  "nbformat_minor": 0,
  "metadata": {
    "colab": {
      "name": "Untitled0.ipynb",
      "provenance": [],
      "collapsed_sections": [],
      "authorship_tag": "ABX9TyOek2IqZ0i0Mefstya2lVVP",
      "include_colab_link": true
    },
    "kernelspec": {
      "name": "python3",
      "display_name": "Python 3"
    }
  },
  "cells": [
    {
      "cell_type": "markdown",
      "metadata": {
        "id": "view-in-github",
        "colab_type": "text"
      },
      "source": [
        "<a href=\"https://colab.research.google.com/github/junaid-glitch/DataScience-BSCS/blob/main/Assignment.ipynb\" target=\"_parent\"><img src=\"https://colab.research.google.com/assets/colab-badge.svg\" alt=\"Open In Colab\"/></a>"
      ]
    },
    {
      "cell_type": "code",
      "metadata": {
        "colab": {
          "base_uri": "https://localhost:8080/"
        },
        "id": "knmy0XPYdwST",
        "outputId": "c7e253a0-d2a0-4377-9a36-834deb91b001"
      },
      "source": [
        "3 * 4"
      ],
      "execution_count": 1,
      "outputs": [
        {
          "output_type": "execute_result",
          "data": {
            "text/plain": [
              "12"
            ]
          },
          "metadata": {
            "tags": []
          },
          "execution_count": 1
        }
      ]
    },
    {
      "cell_type": "code",
      "metadata": {
        "colab": {
          "base_uri": "https://localhost:8080/"
        },
        "id": "dNQrraEzd6jo",
        "outputId": "66e70922-6271-485d-e512-8cba6d9e2c52"
      },
      "source": [
        "3 ** 4"
      ],
      "execution_count": 2,
      "outputs": [
        {
          "output_type": "execute_result",
          "data": {
            "text/plain": [
              "81"
            ]
          },
          "metadata": {
            "tags": []
          },
          "execution_count": 2
        }
      ]
    },
    {
      "cell_type": "code",
      "metadata": {
        "colab": {
          "base_uri": "https://localhost:8080/"
        },
        "id": "wrJWIYpzeabd",
        "outputId": "7841fdff-589d-4d53-ee00-6a3c0dccc0ee"
      },
      "source": [
        "2 + 3\r\n",
        "2 - 3\r\n",
        "2 * 3\r\n",
        "2 / 3\r\n",
        "2 % 3\r\n",
        "2 ** 0.5\r\n",
        "\r\n",
        "\r\n"
      ],
      "execution_count": 7,
      "outputs": [
        {
          "output_type": "execute_result",
          "data": {
            "text/plain": [
              "1.4142135623730951"
            ]
          },
          "metadata": {
            "tags": []
          },
          "execution_count": 7
        }
      ]
    },
    {
      "cell_type": "code",
      "metadata": {
        "colab": {
          "base_uri": "https://localhost:8080/"
        },
        "id": "HoXMD4bqe0E7",
        "outputId": "f0fdddef-eed7-46f4-ca61-0c9e612bc2a1"
      },
      "source": [
        "1 + 2 * 3 * 4 * 5 / 6 ** 3 + 7 + 8 - 9 + 10"
      ],
      "execution_count": 11,
      "outputs": [
        {
          "output_type": "execute_result",
          "data": {
            "text/plain": [
              "17.555555555555557"
            ]
          },
          "metadata": {
            "tags": []
          },
          "execution_count": 11
        }
      ]
    },
    {
      "cell_type": "code",
      "metadata": {
        "colab": {
          "base_uri": "https://localhost:8080/"
        },
        "id": "gOMmfKxWe-Wk",
        "outputId": "9b18d465-3ba4-41fd-d1bb-422d49164bd4"
      },
      "source": [
        "1 + 2 * (3 * 4 * 5 / 6) ** 3 + 7 + 8 - 9 + 10"
      ],
      "execution_count": 12,
      "outputs": [
        {
          "output_type": "execute_result",
          "data": {
            "text/plain": [
              "2017.0"
            ]
          },
          "metadata": {
            "tags": []
          },
          "execution_count": 12
        }
      ]
    },
    {
      "cell_type": "code",
      "metadata": {
        "colab": {
          "base_uri": "https://localhost:8080/"
        },
        "id": "8Li_Hp9jfCCV",
        "outputId": "1ef77f39-cebb-4efa-8457-6418c89e874b"
      },
      "source": [
        "a = 10\r\n",
        "b = 20\r\n",
        "a + b"
      ],
      "execution_count": 10,
      "outputs": [
        {
          "output_type": "execute_result",
          "data": {
            "text/plain": [
              "30"
            ]
          },
          "metadata": {
            "tags": []
          },
          "execution_count": 0
        }
      ]
    },
    {
      "cell_type": "code",
      "metadata": {
        "colab": {
          "base_uri": "https://localhost:8080/"
        },
        "id": "2giEYL5LfVRW",
        "outputId": "0bfc6791-2a62-4a52-b374-65d36f111741"
      },
      "source": [
        "quarter = 1/4\r\n",
        "half = 2 * quarter\r\n",
        "half"
      ],
      "execution_count": 13,
      "outputs": [
        {
          "output_type": "execute_result",
          "data": {
            "text/plain": [
              "0.5"
            ]
          },
          "metadata": {
            "tags": []
          },
          "execution_count": 13
        }
      ]
    },
    {
      "cell_type": "code",
      "metadata": {
        "colab": {
          "base_uri": "https://localhost:8080/"
        },
        "id": "W7nGqRDIfZEr",
        "outputId": "0000b58d-5c9d-42d5-db48-1e51de10db28"
      },
      "source": [
        "quarter = 4\r\n",
        "half"
      ],
      "execution_count": 14,
      "outputs": [
        {
          "output_type": "execute_result",
          "data": {
            "text/plain": [
              "0.5"
            ]
          },
          "metadata": {
            "tags": []
          },
          "execution_count": 14
        }
      ]
    },
    {
      "cell_type": "code",
      "metadata": {
        "colab": {
          "base_uri": "https://localhost:8080/"
        },
        "id": "zAoB_2Lqfa_T",
        "outputId": "983a7b11-85b3-40e5-c7a3-dc21e95f395e"
      },
      "source": [
        "purchase_price = 5\r\n",
        "state_tax_rate = 0.075\r\n",
        "county_tax_rate = 0.02\r\n",
        "city_tax_rate = 0\r\n",
        "sales_tax_rate = state_tax_rate + county_tax_rate + city_tax_rate\r\n",
        "sales_tax = purchase_price * sales_tax_rate\r\n",
        "sales_tax"
      ],
      "execution_count": 15,
      "outputs": [
        {
          "output_type": "execute_result",
          "data": {
            "text/plain": [
              "0.475"
            ]
          },
          "metadata": {
            "tags": []
          },
          "execution_count": 15
        }
      ]
    },
    {
      "cell_type": "code",
      "metadata": {
        "colab": {
          "base_uri": "https://localhost:8080/"
        },
        "id": "xRnQweOvff6s",
        "outputId": "436981eb-c1bf-45ac-8532-2193e5130706"
      },
      "source": [
        "initial = 2766000\r\n",
        "changed = 2814000\r\n",
        "(changed - initial) / initial"
      ],
      "execution_count": 16,
      "outputs": [
        {
          "output_type": "execute_result",
          "data": {
            "text/plain": [
              "0.01735357917570499"
            ]
          },
          "metadata": {
            "tags": []
          },
          "execution_count": 16
        }
      ]
    },
    {
      "cell_type": "code",
      "metadata": {
        "colab": {
          "base_uri": "https://localhost:8080/"
        },
        "id": "oW-htMztfju7",
        "outputId": "055159a4-83e3-4bf3-a215-8a5ff124c403"
      },
      "source": [
        "(changed/initial) - 1"
      ],
      "execution_count": 17,
      "outputs": [
        {
          "output_type": "execute_result",
          "data": {
            "text/plain": [
              "0.017353579175704903"
            ]
          },
          "metadata": {
            "tags": []
          },
          "execution_count": 17
        }
      ]
    },
    {
      "cell_type": "code",
      "metadata": {
        "colab": {
          "base_uri": "https://localhost:8080/"
        },
        "id": "OT0-EmYbfl5L",
        "outputId": "194c53d3-d0b8-4ae4-c6be-a6841e337821"
      },
      "source": [
        "initial = 2766\r\n",
        "changed = 2814\r\n",
        "(changed/initial) - 1"
      ],
      "execution_count": 18,
      "outputs": [
        {
          "output_type": "execute_result",
          "data": {
            "text/plain": [
              "0.017353579175704903"
            ]
          },
          "metadata": {
            "tags": []
          },
          "execution_count": 18
        }
      ]
    },
    {
      "cell_type": "code",
      "metadata": {
        "colab": {
          "base_uri": "https://localhost:8080/"
        },
        "id": "hKJ0xWdvfqFr",
        "outputId": "fed444d6-47b1-4cff-d3dd-b07eacb3ba73"
      },
      "source": [
        "initial = 2.37\r\n",
        "changed = 3.38\r\n",
        "(changed/initial) - 1"
      ],
      "execution_count": 19,
      "outputs": [
        {
          "output_type": "execute_result",
          "data": {
            "text/plain": [
              "0.4261603375527425"
            ]
          },
          "metadata": {
            "tags": []
          },
          "execution_count": 19
        }
      ]
    },
    {
      "cell_type": "code",
      "metadata": {
        "colab": {
          "base_uri": "https://localhost:8080/"
        },
        "id": "E8xn6F8Pfswc",
        "outputId": "74da8e05-f622-4663-a57c-c2cfa4eba8d9"
      },
      "source": [
        "initial = 287.6\r\n",
        "changed = 314.1\r\n",
        "(changed/initial) - 1"
      ],
      "execution_count": 20,
      "outputs": [
        {
          "output_type": "execute_result",
          "data": {
            "text/plain": [
              "0.09214186369958277"
            ]
          },
          "metadata": {
            "tags": []
          },
          "execution_count": 20
        }
      ]
    },
    {
      "cell_type": "code",
      "metadata": {
        "colab": {
          "base_uri": "https://localhost:8080/"
        },
        "id": "EjzbLvIMfuaT",
        "outputId": "5507f3ca-3c28-4ef8-9324-9c541341fed3"
      },
      "source": [
        "initial = 15.3\r\n",
        "changed = 11.9\r\n",
        "(changed/initial) - 1"
      ],
      "execution_count": 21,
      "outputs": [
        {
          "output_type": "execute_result",
          "data": {
            "text/plain": [
              "-0.2222222222222222"
            ]
          },
          "metadata": {
            "tags": []
          },
          "execution_count": 21
        }
      ]
    },
    {
      "cell_type": "code",
      "metadata": {
        "colab": {
          "base_uri": "https://localhost:8080/"
        },
        "id": "GgSbUM1QfyZU",
        "outputId": "7b3c03d4-4a59-44a6-d0ba-d9650927dfbd"
      },
      "source": [
        "1.035 * 1.035 * 1.035 * 1.035 * 1.035 * 1.035 * 1.035 * 1.035 * 1.035 * 1.035 - 1"
      ],
      "execution_count": 22,
      "outputs": [
        {
          "output_type": "execute_result",
          "data": {
            "text/plain": [
              "0.410598760621121"
            ]
          },
          "metadata": {
            "tags": []
          },
          "execution_count": 22
        }
      ]
    },
    {
      "cell_type": "code",
      "metadata": {
        "colab": {
          "base_uri": "https://localhost:8080/"
        },
        "id": "dRqtpP_6f0of",
        "outputId": "6c1fadf1-b05d-49db-f65f-9576938c6cf6"
      },
      "source": [
        "annual_growth_rate = 0.035\r\n",
        "ten_year_growth_rate = (1 + annual_growth_rate) ** 10 - 1\r\n",
        "ten_year_growth_rate\r\n"
      ],
      "execution_count": 23,
      "outputs": [
        {
          "output_type": "execute_result",
          "data": {
            "text/plain": [
              "0.410598760621121"
            ]
          },
          "metadata": {
            "tags": []
          },
          "execution_count": 23
        }
      ]
    },
    {
      "cell_type": "code",
      "metadata": {
        "colab": {
          "base_uri": "https://localhost:8080/"
        },
        "id": "F6EhB3AOf4-L",
        "outputId": "7490d567-45e2-4948-dd65-c92b9c1893e4"
      },
      "source": [
        "initial = 2.37\r\n",
        "changed = 3.38\r\n",
        "t = 10\r\n",
        "(changed/initial) ** (1/t) - 1"
      ],
      "execution_count": 24,
      "outputs": [
        {
          "output_type": "execute_result",
          "data": {
            "text/plain": [
              "0.03613617208346853"
            ]
          },
          "metadata": {
            "tags": []
          },
          "execution_count": 24
        }
      ]
    },
    {
      "cell_type": "code",
      "metadata": {
        "colab": {
          "base_uri": "https://localhost:8080/"
        },
        "id": "8ZirIz9If8FT",
        "outputId": "b37a2a19-e6e0-498d-e4d3-1d697e8e0669"
      },
      "source": [
        "abs(-12)"
      ],
      "execution_count": 25,
      "outputs": [
        {
          "output_type": "execute_result",
          "data": {
            "text/plain": [
              "12"
            ]
          },
          "metadata": {
            "tags": []
          },
          "execution_count": 25
        }
      ]
    },
    {
      "cell_type": "code",
      "metadata": {
        "colab": {
          "base_uri": "https://localhost:8080/"
        },
        "id": "7oRO7niFf-oU",
        "outputId": "aea41a7e-ea9f-40fc-d254-e0ec62a019b3"
      },
      "source": [
        "round(5 - 1.3)"
      ],
      "execution_count": 26,
      "outputs": [
        {
          "output_type": "execute_result",
          "data": {
            "text/plain": [
              "4"
            ]
          },
          "metadata": {
            "tags": []
          },
          "execution_count": 26
        }
      ]
    },
    {
      "cell_type": "code",
      "metadata": {
        "colab": {
          "base_uri": "https://localhost:8080/"
        },
        "id": "4uxDQYAAgAS7",
        "outputId": "05cb1d0d-a21b-4ea7-b243-30d56ec9ac97"
      },
      "source": [
        "max(2, 2 + 3, 4)\r\n"
      ],
      "execution_count": 27,
      "outputs": [
        {
          "output_type": "execute_result",
          "data": {
            "text/plain": [
              "5"
            ]
          },
          "metadata": {
            "tags": []
          },
          "execution_count": 27
        }
      ]
    },
    {
      "cell_type": "code",
      "metadata": {
        "colab": {
          "base_uri": "https://localhost:8080/"
        },
        "id": "I0122T1sgJIT",
        "outputId": "79d731a3-3d2f-4fa1-85f1-92a8bfdd422e"
      },
      "source": [
        "import math\r\n",
        "import operator\r\n",
        "math.sqrt(operator.add(4, 5))"
      ],
      "execution_count": 28,
      "outputs": [
        {
          "output_type": "execute_result",
          "data": {
            "text/plain": [
              "3.0"
            ]
          },
          "metadata": {
            "tags": []
          },
          "execution_count": 28
        }
      ]
    },
    {
      "cell_type": "code",
      "metadata": {
        "colab": {
          "base_uri": "https://localhost:8080/"
        },
        "id": "bq9DY6W9gLdE",
        "outputId": "462a9599-8789-4c9c-c939-fc9f8a282d3d"
      },
      "source": [
        "(4 + 5) ** 0.5"
      ],
      "execution_count": 29,
      "outputs": [
        {
          "output_type": "execute_result",
          "data": {
            "text/plain": [
              "3.0"
            ]
          },
          "metadata": {
            "tags": []
          },
          "execution_count": 29
        }
      ]
    },
    {
      "cell_type": "code",
      "metadata": {
        "colab": {
          "base_uri": "https://localhost:8080/"
        },
        "id": "ahOuN35sgNPt",
        "outputId": "bb96f9b5-63d0-46ad-861b-875f5e2cf41c"
      },
      "source": [
        "florida = 2.72\r\n",
        "iowa = 16.25\r\n",
        "100*abs(florida-iowa)/((florida+iowa)/2)"
      ],
      "execution_count": 30,
      "outputs": [
        {
          "output_type": "execute_result",
          "data": {
            "text/plain": [
              "142.6462836056932"
            ]
          },
          "metadata": {
            "tags": []
          },
          "execution_count": 30
        }
      ]
    },
    {
      "cell_type": "code",
      "metadata": {
        "id": "mlHV9PsvgPlE"
      },
      "source": [
        "math.log?"
      ],
      "execution_count": 34,
      "outputs": []
    },
    {
      "cell_type": "code",
      "metadata": {
        "colab": {
          "base_uri": "https://localhost:8080/"
        },
        "id": "2ljJmTjkgRWE",
        "outputId": "59bad88b-fb00-469c-cf65-bb037a9435bf"
      },
      "source": [
        "math.log(16, 2)"
      ],
      "execution_count": 32,
      "outputs": [
        {
          "output_type": "execute_result",
          "data": {
            "text/plain": [
              "4.0"
            ]
          },
          "metadata": {
            "tags": []
          },
          "execution_count": 32
        }
      ]
    },
    {
      "cell_type": "code",
      "metadata": {
        "colab": {
          "base_uri": "https://localhost:8080/"
        },
        "id": "nB1r9NnigV2N",
        "outputId": "563de167-420a-47aa-e504-e23d6dafa728"
      },
      "source": [
        "math.log(16)/math.log(2)"
      ],
      "execution_count": 35,
      "outputs": [
        {
          "output_type": "execute_result",
          "data": {
            "text/plain": [
              "4.0"
            ]
          },
          "metadata": {
            "tags": []
          },
          "execution_count": 35
        }
      ]
    }
  ]
}